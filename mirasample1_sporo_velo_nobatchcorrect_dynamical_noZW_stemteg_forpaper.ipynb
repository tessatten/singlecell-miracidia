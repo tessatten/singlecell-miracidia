{
 "cells": [
  {
   "cell_type": "code",
   "execution_count": null,
   "metadata": {},
   "outputs": [],
   "source": [
    "import anndata\n",
    "import scvelo as scv\n",
    "import pandas as pd\n",
    "import numpy as np\n",
    "import matplotlib as plt\n",
    "import scanpy as sc\n",
    "import seaborn as sns\n",
    "from matplotlib.pyplot import rc_context\n",
    "%load_ext rpy2.ipython\n",
    "%matplotlib inline"
   ]
  },
  {
   "cell_type": "code",
   "execution_count": null,
   "metadata": {},
   "outputs": [],
   "source": [
    "scv.set_figure_params()"
   ]
  },
  {
   "cell_type": "markdown",
   "metadata": {},
   "source": [
    "Import the dataframe with miracidia sample 1 and sporo raw counts, and the metadata, and combine"
   ]
  },
  {
   "cell_type": "code",
   "execution_count": null,
   "metadata": {},
   "outputs": [],
   "source": [
    "s = scv.read(\"/Users/ta13/R_git/miracidia_v10_scvelo/spliced_raw_filtered_fromOG_justsample1mira_and_sporo_stem_teg_velo_newlbls_noZW.csv\")\n",
    "u = scv.read(\"/Users/ta13/R_git/miracidia_v10_scvelo/unspliced_raw_filtered_fromOG_justsample1mira_and_sporo_stem_teg_velo_newlbls_noZW.csv\")\n",
    "adata_mira_sporo = s\n",
    "adata_mira_sporo.layers['spliced'] = s.X\n",
    "adata_mira_sporo.layers['unspliced'] = u.X\n",
    "import pandas as pd\n",
    "m = pd.read_csv(\"/Users/ta13/R_git/miracidia_v10_scvelo/meta_filtered_fromOG_justsample1mira_and_sporo_stem_teg_velo_newlbls_noZW.csv\")\n",
    "adata_mira_sporo.obs = m"
   ]
  },
  {
   "cell_type": "code",
   "execution_count": null,
   "metadata": {},
   "outputs": [],
   "source": [
    "scv.pp.filter_and_normalize(adata_mira_sporo)\n",
    "scv.pp.moments(adata_mira_sporo)"
   ]
  },
  {
   "cell_type": "code",
   "execution_count": null,
   "metadata": {},
   "outputs": [],
   "source": [
    "scv.tl.recover_dynamics(adata_mira_sporo, n_jobs=6)"
   ]
  },
  {
   "cell_type": "code",
   "execution_count": null,
   "metadata": {},
   "outputs": [],
   "source": [
    "scv.tl.velocity(adata_mira_sporo, mode='dynamical')\n",
    "scv.tl.velocity_graph(adata_mira_sporo)"
   ]
  },
  {
   "cell_type": "code",
   "execution_count": null,
   "metadata": {},
   "outputs": [],
   "source": [
    "sc.pp.highly_variable_genes(adata_mira_sporo, min_mean=0.0125, max_mean=3, min_disp=0.5)\n",
    "sc.pl.highly_variable_genes(adata_mira_sporo)"
   ]
  },
  {
   "cell_type": "code",
   "execution_count": null,
   "metadata": {},
   "outputs": [],
   "source": [
    "sc.tl.pca(adata_mira_sporo, svd_solver='arpack')\n",
    "sc.pl.pca(adata_mira_sporo)"
   ]
  },
  {
   "cell_type": "code",
   "execution_count": null,
   "metadata": {},
   "outputs": [],
   "source": [
    "sc.pp.neighbors(adata_mira_sporo, n_neighbors=10, n_pcs=40)\n"
   ]
  },
  {
   "cell_type": "code",
   "execution_count": null,
   "metadata": {},
   "outputs": [],
   "source": [
    "sc.tl.umap(adata_mira_sporo)"
   ]
  },
  {
   "cell_type": "code",
   "execution_count": null,
   "metadata": {},
   "outputs": [],
   "source": [
    "sc.pl.umap(adata_mira_sporo, color=['Smp-302280',  'Smp-139530', 'Smp-308140', 'Smp-201600'])"
   ]
  },
  {
   "cell_type": "code",
   "execution_count": null,
   "metadata": {},
   "outputs": [],
   "source": [
    "scv.pl.proportions(adata_mira_sporo,save='mirasample1_sporo_velo_nobatchcorrect_dynamical_noZW_stemteg_forpaper/adata_mira_sporo_prop_batchcorrectALL_dynamical_noZW_stemteg.png', dpi=500)"
   ]
  },
  {
   "cell_type": "code",
   "execution_count": null,
   "metadata": {},
   "outputs": [],
   "source": [
    "scv.tl.velocity_confidence(adata_mira_sporo)\n",
    "keys = 'velocity_length', 'velocity_confidence'\n",
    "scv.pl.scatter(adata_mira_sporo, c=keys, cmap='coolwarm', perc=[5, 95],save='mirasample1_sporo_velo_nobatchcorrect_dynamical_noZW_stemteg_forpaper/adata_mira1_sporo_conf_NObatchcorrect_dynamical_noZW_stemteg.png', dpi=500)"
   ]
  },
  {
   "cell_type": "code",
   "execution_count": null,
   "metadata": {},
   "outputs": [],
   "source": [
    "scv.pl.velocity_graph(adata_mira_sporo, threshold=.1)"
   ]
  },
  {
   "cell_type": "code",
   "execution_count": null,
   "metadata": {},
   "outputs": [],
   "source": [
    "x, y = scv.utils.get_cell_transitions(adata_mira_sporo, basis='umap', starting_cell=672)\n",
    "ax = scv.pl.velocity_graph(adata_mira_sporo, c='lightgrey', edge_width=.05, show=False)\n",
    "ax = scv.pl.scatter(adata_mira_sporo, x=x, y=y, s=120, c='ascending', cmap='gnuplot', ax=ax)"
   ]
  },
  {
   "cell_type": "code",
   "execution_count": null,
   "metadata": {},
   "outputs": [],
   "source": [
    "scv.tl.velocity_pseudotime(adata_mira_sporo)\n",
    "scv.pl.scatter(adata_mira_sporo, color='velocity_pseudotime', cmap='gnuplot')"
   ]
  },
  {
   "cell_type": "code",
   "execution_count": null,
   "metadata": {},
   "outputs": [],
   "source": [
    "sc.tl.leiden(adata_mira_sporo, key_added='clusters', resolution=0.4)"
   ]
  },
  {
   "cell_type": "code",
   "execution_count": null,
   "metadata": {},
   "outputs": [],
   "source": [
    "with rc_context({'figure.figsize': (5, 5)}):\n",
    "    sc.pl.umap(adata_mira_sporo, color='clusters', add_outline=True, legend_loc='on data',\n",
    "               legend_fontsize=12, legend_fontoutline=2,frameon=False,\n",
    "               title='clustering of cells', palette='Set1')"
   ]
  },
  {
   "cell_type": "code",
   "execution_count": null,
   "metadata": {},
   "outputs": [],
   "source": [
    "adata_mira_sporo.obs"
   ]
  },
  {
   "cell_type": "code",
   "execution_count": null,
   "metadata": {},
   "outputs": [],
   "source": [
    "mypal = [\"#A2D2FF\", \"#A13D63\", \"#2A9D8F\", \"#E9C46A\", \"#F4A261\", \"#E76F51\", \"#FFAFCC\", \n",
    "\"#CDB4DB\", \"#2ecc71\", \"#6D6875\", \"#0077B6\", \"#03045E\", \"#D5BDAF\", \"#CCD5AE\", \"#BC6C25\", \n",
    "\"#FFC300\", \"#8D99AE\",\"#264653\" ,\"#7272AB\" ,\"#362023\" ]\n",
    "sns.palplot(sns.color_palette(mypal))"
   ]
  },
  {
   "cell_type": "code",
   "execution_count": null,
   "metadata": {},
   "outputs": [],
   "source": [
    "with rc_context({'figure.figsize': (5, 5)}):\n",
    "    sc.pl.umap(adata_mira_sporo, color='clusters', add_outline=True, legend_loc='on data',\n",
    "               legend_fontsize=12, legend_fontoutline=2,frameon=False,\n",
    "               title='clustering of cells', palette=sns.color_palette(mypal),save='adata_mira1_sporov10_scClusteringNoBatchCorrection_dynamical_noZW_stemteg.pdf')"
   ]
  },
  {
   "cell_type": "code",
   "execution_count": null,
   "metadata": {},
   "outputs": [],
   "source": [
    "mypal_seuratlabels = [\"#A2D2FF\", \"#A13D63\", \"#2A9D8F\", \"#E9C46A\", \"#F4A261\", \"#E76F51\", \"#FFAFCC\", \n",
    "\"#CDB4DB\", \"#2ecc71\", \"#6D6875\", \"#0077B6\", \"#03045E\", \"#D5BDAF\", \"#CCD5AE\", \"#BC6C25\", \n",
    "\"#FFC300\", \"#8D99AE\",\"#264653\" ,\"#7272AB\" ,\"#EF7A85\",\"#92140C\",\"#38A700\",\"#ECF39E\",\"#362023\" ]\n",
    "sns.palplot(sns.color_palette(mypal_seuratlabels))"
   ]
  },
  {
   "cell_type": "code",
   "execution_count": null,
   "metadata": {},
   "outputs": [],
   "source": [
    "with rc_context({'figure.figsize': (8, 8)}):\n",
    "    sc.pl.umap(adata_mira_sporo, color='temp.ident', add_outline=True, legend_loc='on data',\n",
    "               legend_fontsize=12, legend_fontoutline=2,frameon=False,\n",
    "               title='clustering of cells',  palette=sns.color_palette(mypal_seuratlabels),save='adata_mira1_sporo_seuratident_NObactchCorrect_dynamical_noZW_stemteg.pdf')"
   ]
  },
  {
   "cell_type": "code",
   "execution_count": null,
   "metadata": {},
   "outputs": [],
   "source": [
    "scv.pl.velocity(adata_mira_sporo, ['Smp-145470'], color_map = 'RdYlGn', ncols=2,save='mirasample1_sporo_velo_nobatchcorrect_dynamical_noZW_stemteg_forpaper/adata_mira1_sporo_velocity_Smp-145470-_NObatchcorrect_dynamical_noZW_stemteg.pdf', dpi=500)"
   ]
  },
  {
   "cell_type": "code",
   "execution_count": null,
   "metadata": {},
   "outputs": [],
   "source": [
    "scv.pl.velocity_embedding(adata_mira_sporo, basis='umap',save='mirasample1_sporo_velo_nobatchcorrect_dynamical_noZW_stemteg_forpaper/adata_mira1_sporo_velocity_embedding_noBatchCorect_dynamical_noZW_stemteg.png', dpi=500)"
   ]
  },
  {
   "cell_type": "code",
   "execution_count": null,
   "metadata": {},
   "outputs": [],
   "source": [
    "scv.pl.velocity_embedding_grid(adata_mira_sporo, basis='umap',save='mirasample1_sporo_velo_nobatchcorrect_dynamical_noZW_stemteg_forpaper/adata_mira1_sporo_velocity_embedding_grid__noBatchCorect_dynamical_noZW_stemteg.png', dpi=500)"
   ]
  },
  {
   "cell_type": "code",
   "execution_count": null,
   "metadata": {},
   "outputs": [],
   "source": [
    "scv.pl.velocity_embedding_stream(adata_mira_sporo, basis='umap',save='mirasample1_sporo_velo_nobatchcorrect_dynamical_noZW_stemteg_forpaper/adata_mira1_sporo_velocity_stream_NObatchcorrect_dynamical_noZW_stemteg.pdf', dpi=500)"
   ]
  },
  {
   "cell_type": "code",
   "execution_count": null,
   "metadata": {},
   "outputs": [],
   "source": [
    "scv.pl.proportions(adata_mira_sporo,save='mirasample1_sporo_velo_nobatchcorrect_dynamical_noZW_stemteg_forpaper/adata_mira1_sporo_prop_nobatchcorrect_clusts_dynamical_noZW_stemteg.png', dpi=500)"
   ]
  },
  {
   "cell_type": "code",
   "execution_count": null,
   "metadata": {},
   "outputs": [],
   "source": [
    "scv.pl.velocity(adata_mira_sporo, ['Smp-139530'], ncols=2,save='mirasample1_sporo_velo_nobatchcorrect_dynamical_noZW_stemteg_forpaper/adata_mira1_sporo_velocity_Smp-139530-_NObatchcorre0ct_dynamical_noZW_stemteg.pdf', dpi=500)"
   ]
  },
  {
   "cell_type": "code",
   "execution_count": null,
   "metadata": {},
   "outputs": [],
   "source": [
    "scv.pl.velocity(adata_mira_sporo, ['Smp-163710', 'Smp-085540', 'Smp-086860', 'Smp-318890'], ncols=2,save='mirasample1_sporo_velo_nobatchcorrect_dynamical_noZW_stemteg_forpaper/adata_mira1_sporovelocity_Smp-163710-Smp-085540-Smp-086860-Smp-318890-NObatchcorrect_dynamical_noZW_stemteg.pdf', dpi=500)"
   ]
  },
  {
   "cell_type": "code",
   "execution_count": null,
   "metadata": {},
   "outputs": [],
   "source": [
    "scv.pl.velocity(adata_mira_sporo, ['Smp-308140', 'Smp-308145', 'Smp-139530', 'Smp-145470'], ncols=2,save='mirasample1_sporo_velo_nobatchcorrect_dynamical_noZW_stemteg_forpaper/adata_mira1_sporovelocity_Smp-308140-Smp-308145-Smp-139530-Smp-145470-NObatchcorrect_dynamical_noZW_stemteg.pdf', dpi=500)"
   ]
  },
  {
   "cell_type": "code",
   "execution_count": null,
   "metadata": {},
   "outputs": [],
   "source": [
    "with rc_context({'figure.figsize': (5, 5)}):\n",
    "    sc.pl.umap(adata_mira_sporo, color='stage', add_outline=True, legend_loc='on data',\n",
    "               legend_fontsize=12, legend_fontoutline=2,frameon=False,\n",
    "               title='clustering of cells', palette='Set1',save='adata_mira1_sporo_stageClustering_NObatchcorrect_dynamical_noZW_stemteg.pdf')"
   ]
  },
  {
   "cell_type": "markdown",
   "metadata": {},
   "source": [
    "Kinetic rate paramters\n",
    "The rates of RNA transcription, splicing and degradation are estimated without the need of any experimental data.\n",
    "\n",
    "They can be useful to better understand the cell identity and phenotypic heterogeneity."
   ]
  },
  {
   "cell_type": "code",
   "execution_count": null,
   "metadata": {},
   "outputs": [],
   "source": [
    "df = adata_mira_sporo.var\n",
    "df = df[(df['fit_likelihood'] > .1) & df['velocity_genes'] == True]\n",
    "\n",
    "kwargs = dict(xscale='log', fontsize=16)\n",
    "with scv.GridSpec(ncols=3) as pl:\n",
    "    pl.hist(df['fit_alpha'], xlabel='transcription rate', **kwargs)\n",
    "    pl.hist(df['fit_beta'] * df['fit_scaling'], xlabel='splicing rate', xticks=[.1, .4, 1], **kwargs)\n",
    "    pl.hist(df['fit_gamma'], xlabel='degradation rate', xticks=[.1, .4, 1], **kwargs)\n",
    "\n",
    "scv.get_df(adata_mira_sporo, 'fit*', dropna=True).head()"
   ]
  },
  {
   "cell_type": "markdown",
   "metadata": {},
   "source": [
    "Latent time\n",
    "The dynamical model recovers the latent time of the underlying cellular processes. This latent time represents the cell’s internal clock and approximates the real time experienced by cells as they differentiate, based only on its transcriptional dynamics."
   ]
  },
  {
   "cell_type": "code",
   "execution_count": null,
   "metadata": {},
   "outputs": [],
   "source": [
    "scv.tl.latent_time(adata_mira_sporo)\n",
    "scv.pl.scatter(adata_mira_sporo, color='latent_time', color_map='gnuplot', size=80, save='mirasample1_sporo_velo_nobatchcorrect_dynamical_noZW_stemteg_forpaper/adata_mira1_sporo_velocity_latenttime_NObatchcorre0ct_dynamical_noZW_stemteg.pdf', dpi=500)"
   ]
  },
  {
   "cell_type": "code",
   "execution_count": null,
   "metadata": {},
   "outputs": [],
   "source": [
    "top_genes = adata_mira_sporo.var['fit_likelihood'].sort_values(ascending=False).index[:300]\n",
    "scv.pl.heatmap(adata_mira_sporo, var_names=top_genes, sortby='latent_time', col_color='clusters', n_convolve=100, save='mirasample1_sporo_velo_nobatchcorrect_dynamical_noZW_stemteg_forpaper/adata_mira1_sporo_velocity_latenttime-heatmap-_NObatchcorre0ct_dynamical_noZW_stemteg.pdf')"
   ]
  },
  {
   "cell_type": "markdown",
   "metadata": {},
   "source": [
    "Top-likelihood genes\n",
    "Driver genes display pronounced dynamic behavior and are systematically detected via their characterization by high likelihoods in the dynamic model.\n",
    "\n"
   ]
  },
  {
   "cell_type": "code",
   "execution_count": null,
   "metadata": {},
   "outputs": [],
   "source": [
    "top_genes = adata_mira_sporo.var['fit_likelihood'].sort_values(ascending=False).index\n",
    "scv.pl.scatter(adata_mira_sporo, basis=top_genes[:15], ncols=5, frameon=False, save='mirasample1_sporo_velo_nobatchcorrect_dynamical_noZW_stemteg_forpaper/adata_mira1_sporo_velocity_toplikelihoodgenes_NObatchcorre0ct_dynamical_noZW_stemteg.pdf', dpi=500)"
   ]
  },
  {
   "cell_type": "markdown",
   "metadata": {},
   "source": [
    "Cluster-specific top-likelihood genes\n",
    "Moreover, partial gene likelihoods can be computed for a each cluster of cells to enable cluster-specific identification of potential drivers."
   ]
  },
  {
   "cell_type": "code",
   "execution_count": null,
   "metadata": {},
   "outputs": [],
   "source": [
    "scv.tl.rank_dynamical_genes(adata_mira_sporo, groupby='clusters')\n",
    "df = scv.get_df(adata_mira_sporo, 'rank_dynamical_genes/names')\n",
    "df.head(5)"
   ]
  },
  {
   "cell_type": "code",
   "execution_count": null,
   "metadata": {},
   "outputs": [],
   "source": [
    "from itertools import chain"
   ]
  },
  {
   "cell_type": "code",
   "execution_count": null,
   "metadata": {},
   "outputs": [],
   "source": [
    "var_names = df[['0']].head(5).values.tolist()\n",
    "var_names = list(chain(*var_names))\n",
    "var_names\n",
    "scv.pl.velocity(adata_mira_sporo, var_names, ncols=2,save='mirasample1_sporo_velo_nobatchcorrect_dynamical_noZW_stemteg_forpaper/adata_mira1_sporovelocity-top5dynamicalgenesclust0-NObatchcorrect_dynamical_noZW_stemteg.pdf', dpi=500)\n",
    "scv.pl.scatter(adata_mira_sporo, var_names, frameon=False, save='mirasample1_sporo_velo_nobatchcorrect_dynamical_noZW_stemteg_forpaper/adata_mira1_sporo_velocity_top5dynamicalgenesclust0-phaseplane-_NObatchcorre0ct_dynamical_noZW_stemteg.pdf', dpi=500)\n",
    "scv.pl.scatter(adata_mira_sporo, x='latent_time', y=var_names, frameon=False, save='mirasample1_sporo_velo_nobatchcorrect_dynamical_noZW_stemteg_forpaper/adata_mira1_sporo_velocity_top5dynamicalgenesclust0-latenttime-_NObatchcorre0ct_dynamical_noZW_stemteg.pdf', dpi=500)"
   ]
  },
  {
   "cell_type": "code",
   "execution_count": null,
   "metadata": {},
   "outputs": [],
   "source": [
    "var_names = df[['1']].head(5).values.tolist()\n",
    "var_names = list(chain(*var_names))\n",
    "var_names\n",
    "scv.pl.velocity(adata_mira_sporo, var_names, ncols=2,save='mirasample1_sporo_velo_nobatchcorrect_dynamical_noZW_stemteg_forpaper/adata_mira1_sporovelocity-top5dynamicalgenesclust1-NObatchcorrect_dynamical_noZW_stemteg.pdf', dpi=500)\n",
    "scv.pl.scatter(adata_mira_sporo, var_names, frameon=False, save='mirasample1_sporo_velo_nobatchcorrect_dynamical_noZW_stemteg_forpaper/adata_mira1_sporo_velocity_top5dynamicalgenesclust1-phaseplane-_NObatchcorre0ct_dynamical_noZW_stemteg.pdf', dpi=500)\n",
    "scv.pl.scatter(adata_mira_sporo, x='latent_time', y=var_names, frameon=False, save='mirasample1_sporo_velo_nobatchcorrect_dynamical_noZW_stemteg_forpaper/adata_mira1_sporo_velocity_top5dynamicalgenesclust1-latenttime-_NObatchcorre0ct_dynamical_noZW_stemteg.pdf', dpi=500)"
   ]
  },
  {
   "cell_type": "code",
   "execution_count": null,
   "metadata": {},
   "outputs": [],
   "source": [
    "var_names = df[['2']].head(5).values.tolist()\n",
    "var_names = list(chain(*var_names))\n",
    "var_names\n",
    "scv.pl.velocity(adata_mira_sporo, var_names, ncols=2,save='mirasample1_sporo_velo_nobatchcorrect_dynamical_noZW_stemteg_forpaper/adata_mira1_sporovelocity-top5dynamicalgenesclust2-NObatchcorrect_dynamical_noZW_stemteg.pdf', dpi=500)\n",
    "scv.pl.scatter(adata_mira_sporo, var_names, frameon=False, save='mirasample1_sporo_velo_nobatchcorrect_dynamical_noZW_stemteg_forpaper/adata_mira1_sporo_velocity_top5dynamicalgenesclust2-phaseplane-_NObatchcorre0ct_dynamical_noZW_stemteg.pdf', dpi=500)\n",
    "scv.pl.scatter(adata_mira_sporo, x='latent_time', y=var_names, frameon=False, save='mirasample1_sporo_velo_nobatchcorrect_dynamical_noZW_stemteg_forpaper/adata_mira1_sporo_velocity_top5dynamicalgenesclust2-latenttime-_NObatchcorre0ct_dynamical_noZW_stemteg.pdf', dpi=500)"
   ]
  },
  {
   "cell_type": "code",
   "execution_count": null,
   "metadata": {},
   "outputs": [],
   "source": [
    "import numpy as np\n",
    "\n",
    "import cellrank as cr"
   ]
  },
  {
   "cell_type": "code",
   "execution_count": null,
   "metadata": {},
   "outputs": [],
   "source": [
    "scv.tl.rank_velocity_genes(adata_mira_sporo, groupby='clusters', min_corr=.3)\n",
    "\n",
    "df = scv.DataFrame(adata_mira_sporo.uns['rank_velocity_genes']['names'])\n",
    "df.head()"
   ]
  },
  {
   "cell_type": "code",
   "execution_count": null,
   "metadata": {},
   "outputs": [],
   "source": [
    "scv.pl.velocity(adata_mira_sporo, ['Smp-147790', 'Smp-180690', 'Smp-247590', 'Smp-024860'], ncols=2,save='mirasample1_sporo_velo_nobatchcorrect_dynamical_noZW_stemteg_forpaper/adata_mira1_sporo_velocity_stemcell_DEGs-_NObatchcorre0ct_dynamical_noZW_stemteg.pdf', dpi=500)"
   ]
  },
  {
   "cell_type": "code",
   "execution_count": null,
   "metadata": {},
   "outputs": [],
   "source": [
    "scv.pl.velocity(adata_mira_sporo, ['Smp-175590'], ncols=2,save='mirasample1_sporo_velo_nobatchcorrect_dynamical_noZW_stemteg_forpaper/adata_mira1_sporovelocity-Smp-175590-NObatchcorrect_dynamical_noZW_stemteg.pdf', dpi=500)"
   ]
  },
  {
   "cell_type": "markdown",
   "metadata": {},
   "source": []
  }
 ],
 "metadata": {
  "kernelspec": {
   "display_name": "Python 3",
   "language": "python",
   "name": "python3"
  },
  "language_info": {
   "codemirror_mode": {
    "name": "ipython",
    "version": 3
   },
   "file_extension": ".py",
   "mimetype": "text/x-python",
   "name": "python",
   "nbconvert_exporter": "python",
   "pygments_lexer": "ipython3",
   "version": "3.8.5"
  }
 },
 "nbformat": 4,
 "nbformat_minor": 2
}
